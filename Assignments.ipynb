{
  "nbformat": 4,
  "nbformat_minor": 0,
  "metadata": {
    "colab": {
      "provenance": [],
      "authorship_tag": "ABX9TyMDsqxPfYwmkVAoD0Jn7k/q",
      "include_colab_link": true
    },
    "kernelspec": {
      "name": "python3",
      "display_name": "Python 3"
    },
    "language_info": {
      "name": "python"
    }
  },
  "cells": [
    {
      "cell_type": "markdown",
      "metadata": {
        "id": "view-in-github",
        "colab_type": "text"
      },
      "source": [
        "<a href=\"https://colab.research.google.com/github/BillyaBennett/BTE-320/blob/main/Assignments.ipynb\" target=\"_parent\"><img src=\"https://colab.research.google.com/assets/colab-badge.svg\" alt=\"Open In Colab\"/></a>"
      ]
    },
    {
      "cell_type": "code",
      "execution_count": null,
      "metadata": {
        "colab": {
          "base_uri": "https://localhost:8080/"
        },
        "id": "KgwfePneZ5R0",
        "outputId": "10c3caa1-294b-44aa-88b6-17fc06eabbd6"
      },
      "outputs": [
        {
          "output_type": "stream",
          "name": "stdout",
          "text": [
            "Please input the radius: 5\n",
            "Please input the height: 10\n",
            "Area of a Cylinder =  471.0 sq. ft\n"
          ]
        }
      ],
      "source": [
        "#surface area of a cylinder\n",
        "pi = 3.14\n",
        "\n",
        "radius = float(input(\"Please input the radius: \"))\n",
        "height = float(input(\"Please input the height: \"))\n",
        "\n",
        "area = 2*pi*radius*height + 2*pi*radius**2\n",
        "\n",
        "print(\"Area of a Cylinder = \", area, \"sq. ft\")"
      ]
    },
    {
      "cell_type": "code",
      "source": [
        "#Design a calculator\n",
        "\n",
        "n1 = float(input(\"Please input your first number: \"))\n",
        "n2 = float(input(\"Please input your second number: \"))\n",
        "s = input(\"Please input your operator (+, -, *, /, %, **, //): \")\n",
        "\n",
        "if s == '+':\n",
        "  print(f'{n1} + {n2} = {n1 + n2}')\n",
        "elif s == '-':\n",
        "  print(f'{n1} - {n2} = {n1 - n2}')\n",
        "elif s == '*':\n",
        "  print(f'{n1} * {n2} = {n1 * n2}')\n",
        "elif s == '/':\n",
        "  print(f'{n1} / {n2} = {n1 / n2}')\n",
        "elif s == '%':\n",
        "  print(f'{n1} % {n2} = {n1 % n2}')\n",
        "elif s == '**':\n",
        "  print(f'{n1} ** {n2} = {n1 ** n2}')\n",
        "elif s == '//':\n",
        "  print(f'{n1} // {n2} = {n1 // n2}')\n",
        "else:\n",
        "  print(\"Invalid Operator\")"
      ],
      "metadata": {
        "colab": {
          "base_uri": "https://localhost:8080/"
        },
        "id": "fsy9CDfUc96A",
        "outputId": "1795c316-4739-4c4e-d0ad-813d0c3a18f1"
      },
      "execution_count": 14,
      "outputs": [
        {
          "output_type": "stream",
          "name": "stdout",
          "text": [
            "Please input your first number: 5\n",
            "Please input your second number: 6\n",
            "Please input your operator (+, -, *, /, %, **, //): *\n",
            "5.0 * 6.0 = 30.0\n"
          ]
        }
      ]
    }
  ]
}