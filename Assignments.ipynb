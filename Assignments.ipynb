{
  "nbformat": 4,
  "nbformat_minor": 0,
  "metadata": {
    "colab": {
      "provenance": [],
      "authorship_tag": "ABX9TyMA5JTYB6VOgs0Zvci1azAb",
      "include_colab_link": true
    },
    "kernelspec": {
      "name": "python3",
      "display_name": "Python 3"
    },
    "language_info": {
      "name": "python"
    }
  },
  "cells": [
    {
      "cell_type": "markdown",
      "metadata": {
        "id": "view-in-github",
        "colab_type": "text"
      },
      "source": [
        "<a href=\"https://colab.research.google.com/github/BillyaBennett/BTE-320/blob/main/Assignments.ipynb\" target=\"_parent\"><img src=\"https://colab.research.google.com/assets/colab-badge.svg\" alt=\"Open In Colab\"/></a>"
      ]
    },
    {
      "cell_type": "code",
      "execution_count": null,
      "metadata": {
        "colab": {
          "base_uri": "https://localhost:8080/"
        },
        "id": "KgwfePneZ5R0",
        "outputId": "10c3caa1-294b-44aa-88b6-17fc06eabbd6"
      },
      "outputs": [
        {
          "output_type": "stream",
          "name": "stdout",
          "text": [
            "Please input the radius: 5\n",
            "Please input the height: 10\n",
            "Area of a Cylinder =  471.0 sq. ft\n"
          ]
        }
      ],
      "source": [
        "#surface area of a cylinder\n",
        "pi = 3.14\n",
        "\n",
        "radius = float(input(\"Please input the radius: \"))\n",
        "height = float(input(\"Please input the height: \"))\n",
        "\n",
        "area = 2*pi*radius*height + 2*pi*radius**2\n",
        "\n",
        "print(\"Area of a Cylinder = \", area, \"sq. ft\")"
      ]
    },
    {
      "cell_type": "code",
      "source": [
        "#Design a calculator\n",
        "\n",
        "n1 = float(input(\"Please input your first number: \"))\n",
        "n2 = float(input(\"Please input your second number: \"))\n",
        "s = input(\"Please input your operator (+, -, *, /, %, **, //): \")\n",
        "\n",
        "if s == '+':\n",
        "  print(f'{n1} + {n2} = {n1 + n2}')\n",
        "elif s == '-':\n",
        "  print(f'{n1} - {n2} = {n1 - n2}')\n",
        "elif s == '*':\n",
        "  print(f'{n1} * {n2} = {n1 * n2}')\n",
        "elif s == '/':\n",
        "  print(f'{n1} / {n2} = {n1 / n2}')\n",
        "elif s == '%':\n",
        "  print(f'{n1} % {n2} = {n1 % n2}')\n",
        "elif s == '**':\n",
        "  print(f'{n1} ** {n2} = {n1 ** n2}')\n",
        "elif s == '//':\n",
        "  print(f'{n1} // {n2} = {n1 // n2}')\n",
        "else:\n",
        "  print(\"Invalid Operator\")"
      ],
      "metadata": {
        "colab": {
          "base_uri": "https://localhost:8080/"
        },
        "id": "fsy9CDfUc96A",
        "outputId": "1795c316-4739-4c4e-d0ad-813d0c3a18f1"
      },
      "execution_count": null,
      "outputs": [
        {
          "output_type": "stream",
          "name": "stdout",
          "text": [
            "Please input your first number: 5\n",
            "Please input your second number: 6\n",
            "Please input your operator (+, -, *, /, %, **, //): *\n",
            "5.0 * 6.0 = 30.0\n"
          ]
        }
      ]
    },
    {
      "cell_type": "code",
      "source": [
        "#Parking Garage - Problem\n",
        "\n",
        "for numberHours in range(1,9):\n",
        "  fee = 5 + 2.5*numberHours\n",
        "  if fee <= 10:\n",
        "    fee = 10.0\n",
        "  elif fee >= 20:\n",
        "    fee = 20.0\n",
        "  print(numberHours, fee)"
      ],
      "metadata": {
        "colab": {
          "base_uri": "https://localhost:8080/"
        },
        "id": "FlbvmJmXJTy4",
        "outputId": "7871ca55-abea-44b4-a539-85a568bd0079"
      },
      "execution_count": null,
      "outputs": [
        {
          "output_type": "stream",
          "name": "stdout",
          "text": [
            "1 10.0\n",
            "2 10.0\n",
            "3 12.5\n",
            "4 15.0\n",
            "5 17.5\n",
            "6 20.0\n",
            "7 20.0\n",
            "8 20.0\n"
          ]
        }
      ]
    },
    {
      "cell_type": "code",
      "source": [
        "#Movie Theater - Problem\n",
        "\n",
        "print('Ad$\\t', 'Profit')\n",
        "for adcost in range(0, 201, 25):\n",
        "  additional = 2 * round(adcost ** .5)\n",
        "  Profit = (20 + additional) * 10 - 200 - adcost\n",
        "  print(adcost, '\\t', Profit)"
      ],
      "metadata": {
        "colab": {
          "base_uri": "https://localhost:8080/"
        },
        "id": "evzyipltN_nI",
        "outputId": "baeaf2a2-9884-4b8d-f224-09e86f95dbfa"
      },
      "execution_count": null,
      "outputs": [
        {
          "output_type": "stream",
          "name": "stdout",
          "text": [
            "Ad$\t Profit\n",
            "0 \t 0\n",
            "25 \t 75\n",
            "50 \t 90\n",
            "75 \t 105\n",
            "100 \t 100\n",
            "125 \t 95\n",
            "150 \t 90\n",
            "175 \t 85\n",
            "200 \t 80\n"
          ]
        }
      ]
    },
    {
      "cell_type": "code",
      "source": [
        "#Rock - Paper - Scissors\n",
        "\n",
        "import random\n",
        "\n",
        "play = input('Do you want to play a game (yes/no)? ')\n",
        "\n",
        "while play == 'yes':\n",
        "  p1 = input('Player 1 - Choose between rock/paper/scissors: ').capitalize()\n",
        "  p2 = random.choice(['rock', 'paper', 'scissors']).capitalize()\n",
        "\n",
        "  print(f'Player 1 chose {p1}; Player 2 chose {p2}')\n",
        "\n",
        "  if p1 == p2:\n",
        "    print('Draw')\n",
        "  elif ((p1 == 'rock' and p2 == 'scissors') or\n",
        "   (p1 == 'scissors' and p2 == 'paper') or\n",
        "    (p1 == 'paper' and p2 == 'rock')):\n",
        "    print('Player 1 wins!')\n",
        "  else:\n",
        "    print('Player 2 wins!')\n",
        "\n",
        "  play = input('Do you want to play a new game (yes/no)? ')\n",
        "\n",
        "print('Thanks for playing!')"
      ],
      "metadata": {
        "colab": {
          "base_uri": "https://localhost:8080/"
        },
        "id": "D8E2wsjmAA_s",
        "outputId": "8f6591c1-f295-4920-879a-2129f8ae4283"
      },
      "execution_count": null,
      "outputs": [
        {
          "output_type": "stream",
          "name": "stdout",
          "text": [
            "Do you want to play a game (yes/no)? yes\n",
            "Player 1 - Choose between rock/paper/scissors: rock\n",
            "Player 1 chose Rock; Player 2 chose Scissors\n",
            "Player 2 wins!\n",
            "Do you want to play a new game (yes/no)? no\n",
            "Thanks for playing!\n"
          ]
        }
      ]
    },
    {
      "cell_type": "code",
      "source": [
        "#Append items to list iteratively\n",
        "lst = []\n",
        "\n",
        "num = float(input(\"Give a number: \"))\n",
        "\n",
        "while num != 0.0:\n",
        "  lst.append(num)\n",
        "  num = float(input(\"Give a number: \"))\n",
        "lst.sort(reverse = True)\n",
        "print(lst)"
      ],
      "metadata": {
        "colab": {
          "base_uri": "https://localhost:8080/"
        },
        "id": "htG1KZiHCQC_",
        "outputId": "456080d9-2775-45ad-b247-c2678eb65c4c"
      },
      "execution_count": null,
      "outputs": [
        {
          "output_type": "stream",
          "name": "stdout",
          "text": [
            "Give a number: 2.7\n",
            "Give a number: 8.9\n",
            "Give a number: 8.8\n",
            "Give a number: 3.9\n",
            "Give a number: 0\n",
            "[8.9, 8.8, 3.9, 2.7]\n"
          ]
        }
      ]
    },
    {
      "cell_type": "code",
      "source": [
        "#Dynamic dictionary of number:month pairs\n",
        "months = {}\n",
        "\n",
        "names = [\"Jan\", \"Feb\", \"Mar\", \"Apr\", \"May\", \"Jun\", \"Jul\", \"Aug\", \"Sep\", \"Oct\", \"Nov\", \"Dec\"]\n",
        "numbers = [1,2,3,4,5,6,7,8,9,10,11,12]\n",
        "\n",
        "for idx in range(len(numbers)):\n",
        "  months[numbers[idx]] = names[idx]\n",
        "\n",
        "months"
      ],
      "metadata": {
        "colab": {
          "base_uri": "https://localhost:8080/"
        },
        "id": "FrlCDSJillol",
        "outputId": "e223705b-930d-4e76-d742-81e21e064a84"
      },
      "execution_count": null,
      "outputs": [
        {
          "output_type": "execute_result",
          "data": {
            "text/plain": [
              "{1: 'Jan',\n",
              " 2: 'Feb',\n",
              " 3: 'Mar',\n",
              " 4: 'Apr',\n",
              " 5: 'May',\n",
              " 6: 'Jun',\n",
              " 7: 'Jul',\n",
              " 8: 'Aug',\n",
              " 9: 'Sep',\n",
              " 10: 'Oct',\n",
              " 11: 'Nov',\n",
              " 12: 'Dec'}"
            ]
          },
          "metadata": {},
          "execution_count": 17
        }
      ]
    },
    {
      "cell_type": "code",
      "source": [
        "#Dynamic dictionary; 5 distinct key:value pairs\n",
        "\n",
        "counts = {}\n",
        "\n",
        "while len(counts) < 5:\n",
        "  key = input(\"Give a string: \")\n",
        "\n",
        "  if key not in counts:\n",
        "    counts[key] = 1\n",
        "  else:\n",
        "    counts[key] = counts[key] + 1\n",
        "\n",
        "counts"
      ],
      "metadata": {
        "colab": {
          "base_uri": "https://localhost:8080/"
        },
        "id": "CaI4YopLng77",
        "outputId": "14cba141-3ac7-4991-a812-d2ab6d9a014a"
      },
      "execution_count": null,
      "outputs": [
        {
          "name": "stdout",
          "output_type": "stream",
          "text": [
            "Give a string: apple\n",
            "Give a string: banana\n",
            "Give a string: cherry\n",
            "Give a string: strawberry\n",
            "Give a string: banana\n",
            "Give a string: cherry\n",
            "Give a string: strawberry\n",
            "Give a string: watermelon\n"
          ]
        },
        {
          "output_type": "execute_result",
          "data": {
            "text/plain": [
              "{'apple': 1, 'banana': 2, 'cherry': 2, 'strawberry': 2, 'watermelon': 1}"
            ]
          },
          "metadata": {},
          "execution_count": 22
        }
      ]
    },
    {
      "cell_type": "code",
      "source": [
        "#Parking garage: calcFee function\n",
        "\n",
        "def calFee(Hours):\n",
        "  fee = 5 + 2.5*Hours\n",
        "  if fee <= 10:\n",
        "    fee = 10.0\n",
        "  elif fee >= 20:\n",
        "    fee = 20.0\n",
        "  return fee\n",
        "\n",
        "numHours = int(input(\"Enter hours parked: \"))\n",
        "\n",
        "fee = calFee(numHours)\n",
        "print(f\"Parking fee: ${fee:}\")"
      ],
      "metadata": {
        "colab": {
          "base_uri": "https://localhost:8080/"
        },
        "id": "D3nzaZBEXG27",
        "outputId": "96735216-bca3-4e0c-98a9-e0b34f66e49d"
      },
      "execution_count": null,
      "outputs": [
        {
          "output_type": "stream",
          "name": "stdout",
          "text": [
            "Enter hours parked: 4\n",
            "Parking fee: $15.0\n"
          ]
        }
      ]
    },
    {
      "cell_type": "code",
      "source": [
        "#Recursion Function - Reverse \"hello\"\n",
        "\n",
        "def reverse(s):\n",
        "  if len(s) == 1:\n",
        "    return s\n",
        "  else:\n",
        "    return s[-1] + reverse(s[:-1])\n",
        "\n",
        "reverse(\"hello\")"
      ],
      "metadata": {
        "colab": {
          "base_uri": "https://localhost:8080/",
          "height": 35
        },
        "id": "WCNzC_JNp7we",
        "outputId": "3f58907c-1168-4971-e774-9fb9b12ace5a"
      },
      "execution_count": null,
      "outputs": [
        {
          "output_type": "execute_result",
          "data": {
            "text/plain": [
              "'olleh'"
            ],
            "application/vnd.google.colaboratory.intrinsic+json": {
              "type": "string"
            }
          },
          "metadata": {},
          "execution_count": 6
        }
      ]
    },
    {
      "cell_type": "code",
      "source": [
        "#Parking garage/1st question of Assignment II using exception handling #1\n",
        "\n",
        "def calFee(Hours):\n",
        "    fee = 5 + 2.5 * Hours\n",
        "    if fee <= 10:\n",
        "        fee = 10.0\n",
        "    elif fee >= 20:\n",
        "        fee = 20.0\n",
        "    print(f'Fee: ${fee}')\n",
        "\n",
        "def main():\n",
        "    try:\n",
        "      numHours = int(input(\"Enter hours parked: \"))\n",
        "      calFee(numHours)\n",
        "    except ValueError:\n",
        "      print(\"Cannot cast to int().\")\n",
        "    except:\n",
        "      print('Unknown Error...')\n",
        "\n",
        "if __name__ == \"__main__\":\n",
        "    main()"
      ],
      "metadata": {
        "colab": {
          "base_uri": "https://localhost:8080/"
        },
        "id": "bSSvHWx-DO_N",
        "outputId": "c2902746-259b-4374-ba85-8cc347d155bd"
      },
      "execution_count": null,
      "outputs": [
        {
          "output_type": "stream",
          "name": "stdout",
          "text": [
            "Enter hours parked: -4\n",
            "Fee: $10.0\n"
          ]
        }
      ]
    },
    {
      "cell_type": "code",
      "source": [
        "#Parking garage/1st question of Assignment II using exception handling #2\n",
        "\n",
        "def getValues(n):\n",
        "  L = []\n",
        "  for i in range(n):\n",
        "    weight = float(input('Enter weight: '))\n",
        "    L.append(weight)\n",
        "  return L\n",
        "\n",
        "def calcAverage(alist):\n",
        "  try:\n",
        "    print(f'The average weight is: {sum(alist[2:]) / len(alist[2:])}')\n",
        "  except ZeroDivisionError:\n",
        "    print(f'List {alist} is empty!')\n",
        "\n",
        "if __name__ == '__main__':\n",
        "  try:\n",
        "    n = int(input('Enter size of list: '))\n",
        "    alist = getValues(n)\n",
        "    calcAverage(alist)\n",
        "  except ValueError:\n",
        "    print('Input cannot be casted as an int().')"
      ],
      "metadata": {
        "colab": {
          "base_uri": "https://localhost:8080/"
        },
        "id": "mw-imhyfGxHh",
        "outputId": "2d3cc0f1-1b80-4939-c22d-c4c98f6dc19c"
      },
      "execution_count": null,
      "outputs": [
        {
          "output_type": "stream",
          "name": "stdout",
          "text": [
            "Enter size of list: 0\n",
            "List [] is empty!\n"
          ]
        }
      ]
    },
    {
      "cell_type": "code",
      "source": [
        "#Greeting Class\n",
        "\n",
        "class Greeting:\n",
        "  def __init__(self, first, last):\n",
        "    self.first = first\n",
        "    self.last = last\n",
        "  def display(self, formal=False):\n",
        "    if formal:\n",
        "      print(f'Hi {self.first} {self.last}')\n",
        "    else:\n",
        "      print(f'Hi {self.first}')\n",
        "\n",
        "  def __str__(self):\n",
        "    return f'{self.first} {self.last}'\n",
        "\n",
        "greeting = Greeting(\"Donald\", \"Becker\")\n",
        "greeting.display(formal=True)\n",
        "print(greeting)"
      ],
      "metadata": {
        "colab": {
          "base_uri": "https://localhost:8080/"
        },
        "id": "lZy8RHf7LNMY",
        "outputId": "01ec610e-071a-418a-94eb-f145aad59fc3"
      },
      "execution_count": null,
      "outputs": [
        {
          "output_type": "stream",
          "name": "stdout",
          "text": [
            "Hi Donald Becker\n",
            "Donald Becker\n"
          ]
        }
      ]
    },
    {
      "cell_type": "code",
      "source": [
        "#Student Class\n",
        "class Student:\n",
        "  def __init__(self, name, number):\n",
        "    self.name = name\n",
        "    self.number = number\n",
        "    self.courses = []\n",
        "\n",
        "  def enroll(self, course):\n",
        "    if course in self.courses:\n",
        "      print(f'You have already enrolled in {course}')\n",
        "    else:\n",
        "      self.courses.append(course)\n",
        "\n",
        "  def get_courses(self):\n",
        "    return self.courses\n",
        "\n",
        "s1 = Student(\"Clark Kent\", 100)\n",
        "s2 = Student(\"Bill Nye\", 101)\n",
        "\n",
        "print(s1.name)\n",
        "print(s2.name)\n",
        "\n",
        "s1.enroll(\"BTE320\")\n",
        "s1.enroll(\"BTE401\")\n",
        "\n",
        "s1.get_courses()"
      ],
      "metadata": {
        "id": "7OZM8YJuBIB-",
        "outputId": "8570a50c-1327-4fa6-c652-90a75cf5dcfe",
        "colab": {
          "base_uri": "https://localhost:8080/"
        }
      },
      "execution_count": null,
      "outputs": [
        {
          "output_type": "stream",
          "name": "stdout",
          "text": [
            "Clark Kent\n",
            "Bill Nye\n"
          ]
        },
        {
          "output_type": "execute_result",
          "data": {
            "text/plain": [
              "['BTE320', 'BTE401']"
            ]
          },
          "metadata": {},
          "execution_count": 7
        }
      ]
    },
    {
      "cell_type": "code",
      "source": [
        "#Point Class\n",
        "\n",
        "import math\n",
        "\n",
        "class Point:\n",
        "  def __init__(self, x, y):\n",
        "    self.x = x\n",
        "    self.y = y\n",
        "\n",
        "  def distance(self, other):\n",
        "    dx = (self.x - other.x) ** 2\n",
        "    dy = (self.y - other.y) ** 2\n",
        "    dist = math.sqrt(dx + dy)\n",
        "    print(dist)\n",
        "\n",
        "p1 = Point(1, 7)\n",
        "p2 = Point(4 ,3)\n",
        "p1.distance(p2)"
      ],
      "metadata": {
        "colab": {
          "base_uri": "https://localhost:8080/"
        },
        "id": "2zyjvNW1NAIr",
        "outputId": "94d3c644-0b40-4f13-bb58-f50840efd589"
      },
      "execution_count": 3,
      "outputs": [
        {
          "output_type": "stream",
          "name": "stdout",
          "text": [
            "5.0\n"
          ]
        }
      ]
    },
    {
      "cell_type": "code",
      "source": [
        "#Rectangle Class - Extension of Point Class\n",
        "\n",
        "class Rectangle:\n",
        "  def __init__(self):\n",
        "    self.c1 = Point(0, 0)\n",
        "    self.c2 = Point(0, 2)\n",
        "    self.c3 = Point(2, 0)\n",
        "    self.c4 = Point(2, 2)\n",
        "    self.width = 0\n",
        "    self.height = 0\n",
        "\n",
        "  def calculate_width(self):\n",
        "    self.width = self.c1.distance(self.c2)\n",
        "\n",
        "  def calculate_height(self):\n",
        "    self.heigh = self.c3.distance(self.c4)\n",
        "\n",
        "  def area(self):\n",
        "    return self.width * self.height\n",
        "\n",
        "sqaure = Rectangle()"
      ],
      "metadata": {
        "id": "xsqUDSbaQQ5y"
      },
      "execution_count": 5,
      "outputs": []
    }
  ]
}