{
  "nbformat": 4,
  "nbformat_minor": 0,
  "metadata": {
    "colab": {
      "provenance": [],
      "authorship_tag": "ABX9TyPcUCHNe0LrUPyzY+/QZDJZ",
      "include_colab_link": true
    },
    "kernelspec": {
      "name": "python3",
      "display_name": "Python 3"
    },
    "language_info": {
      "name": "python"
    }
  },
  "cells": [
    {
      "cell_type": "markdown",
      "metadata": {
        "id": "view-in-github",
        "colab_type": "text"
      },
      "source": [
        "<a href=\"https://colab.research.google.com/github/BillyaBennett/BTE-320/blob/main/Assignments.ipynb\" target=\"_parent\"><img src=\"https://colab.research.google.com/assets/colab-badge.svg\" alt=\"Open In Colab\"/></a>"
      ]
    },
    {
      "cell_type": "code",
      "execution_count": null,
      "metadata": {
        "colab": {
          "base_uri": "https://localhost:8080/"
        },
        "id": "KgwfePneZ5R0",
        "outputId": "10c3caa1-294b-44aa-88b6-17fc06eabbd6"
      },
      "outputs": [
        {
          "output_type": "stream",
          "name": "stdout",
          "text": [
            "Please input the radius: 5\n",
            "Please input the height: 10\n",
            "Area of a Cylinder =  471.0 sq. ft\n"
          ]
        }
      ],
      "source": [
        "#surface area of a cylinder\n",
        "pi = 3.14\n",
        "\n",
        "radius = float(input(\"Please input the radius: \"))\n",
        "height = float(input(\"Please input the height: \"))\n",
        "\n",
        "area = 2*pi*radius*height + 2*pi*radius**2\n",
        "\n",
        "print(\"Area of a Cylinder = \", area, \"sq. ft\")"
      ]
    },
    {
      "cell_type": "code",
      "source": [
        "#Design a calculator\n",
        "\n",
        "n1 = float(input(\"Please input your first number: \"))\n",
        "n2 = float(input(\"Please input your second number: \"))\n",
        "s = input(\"Please input your operator (+, -, *, /, %, **, //): \")\n",
        "\n",
        "if s == '+':\n",
        "  print(f'{n1} + {n2} = {n1 + n2}')\n",
        "elif s == '-':\n",
        "  print(f'{n1} - {n2} = {n1 - n2}')\n",
        "elif s == '*':\n",
        "  print(f'{n1} * {n2} = {n1 * n2}')\n",
        "elif s == '/':\n",
        "  print(f'{n1} / {n2} = {n1 / n2}')\n",
        "elif s == '%':\n",
        "  print(f'{n1} % {n2} = {n1 % n2}')\n",
        "elif s == '**':\n",
        "  print(f'{n1} ** {n2} = {n1 ** n2}')\n",
        "elif s == '//':\n",
        "  print(f'{n1} // {n2} = {n1 // n2}')\n",
        "else:\n",
        "  print(\"Invalid Operator\")"
      ],
      "metadata": {
        "colab": {
          "base_uri": "https://localhost:8080/"
        },
        "id": "fsy9CDfUc96A",
        "outputId": "1795c316-4739-4c4e-d0ad-813d0c3a18f1"
      },
      "execution_count": null,
      "outputs": [
        {
          "output_type": "stream",
          "name": "stdout",
          "text": [
            "Please input your first number: 5\n",
            "Please input your second number: 6\n",
            "Please input your operator (+, -, *, /, %, **, //): *\n",
            "5.0 * 6.0 = 30.0\n"
          ]
        }
      ]
    },
    {
      "cell_type": "code",
      "source": [
        "#Parking Garage - Problem\n",
        "\n",
        "for numberHours in range(1,9):\n",
        "  fee = 5 + 2.5*numberHours\n",
        "  if fee <= 10:\n",
        "    fee = 10.0\n",
        "  elif fee >= 20:\n",
        "    fee = 20.0\n",
        "  print(numberHours, fee)"
      ],
      "metadata": {
        "colab": {
          "base_uri": "https://localhost:8080/"
        },
        "id": "FlbvmJmXJTy4",
        "outputId": "7871ca55-abea-44b4-a539-85a568bd0079"
      },
      "execution_count": null,
      "outputs": [
        {
          "output_type": "stream",
          "name": "stdout",
          "text": [
            "1 10.0\n",
            "2 10.0\n",
            "3 12.5\n",
            "4 15.0\n",
            "5 17.5\n",
            "6 20.0\n",
            "7 20.0\n",
            "8 20.0\n"
          ]
        }
      ]
    },
    {
      "cell_type": "code",
      "source": [
        "#Movie Theater - Problem\n",
        "\n",
        "print('Ad$\\t', 'Profit')\n",
        "for adcost in range(0, 201, 25):\n",
        "  additional = 2 * round(adcost ** .5)\n",
        "  Profit = (20 + additional) * 10 - 200 - adcost\n",
        "  print(adcost, '\\t', Profit)"
      ],
      "metadata": {
        "colab": {
          "base_uri": "https://localhost:8080/"
        },
        "id": "evzyipltN_nI",
        "outputId": "baeaf2a2-9884-4b8d-f224-09e86f95dbfa"
      },
      "execution_count": null,
      "outputs": [
        {
          "output_type": "stream",
          "name": "stdout",
          "text": [
            "Ad$\t Profit\n",
            "0 \t 0\n",
            "25 \t 75\n",
            "50 \t 90\n",
            "75 \t 105\n",
            "100 \t 100\n",
            "125 \t 95\n",
            "150 \t 90\n",
            "175 \t 85\n",
            "200 \t 80\n"
          ]
        }
      ]
    },
    {
      "cell_type": "code",
      "source": [
        "#Rock - Paper - Scissors\n",
        "\n",
        "import random\n",
        "\n",
        "play = input('Do you want to play a game (yes/no)? ')\n",
        "\n",
        "while play == 'yes':\n",
        "  p1 = input('Player 1 - Choose between rock/paper/scissors: ').capitalize()\n",
        "  p2 = random.choice(['rock', 'paper', 'scissors']).capitalize()\n",
        "\n",
        "  print(f'Player 1 chose {p1}; Player 2 chose {p2}')\n",
        "\n",
        "  if p1 == p2:\n",
        "    print('Draw')\n",
        "  elif ((p1 == 'rock' and p2 == 'scissors') or\n",
        "   (p1 == 'scissors' and p2 == 'paper') or\n",
        "    (p1 == 'paper' and p2 == 'rock')):\n",
        "    print('Player 1 wins!')\n",
        "  else:\n",
        "    print('Player 2 wins!')\n",
        "\n",
        "  play = input('Do you want to play a new game (yes/no)? ')\n",
        "\n",
        "print('Thanks for playing!')"
      ],
      "metadata": {
        "colab": {
          "base_uri": "https://localhost:8080/"
        },
        "id": "D8E2wsjmAA_s",
        "outputId": "8f6591c1-f295-4920-879a-2129f8ae4283"
      },
      "execution_count": null,
      "outputs": [
        {
          "output_type": "stream",
          "name": "stdout",
          "text": [
            "Do you want to play a game (yes/no)? yes\n",
            "Player 1 - Choose between rock/paper/scissors: rock\n",
            "Player 1 chose Rock; Player 2 chose Scissors\n",
            "Player 2 wins!\n",
            "Do you want to play a new game (yes/no)? no\n",
            "Thanks for playing!\n"
          ]
        }
      ]
    },
    {
      "cell_type": "code",
      "source": [
        "#Infinite List until Given 0\n",
        "lst = []\n",
        "\n",
        "num = float(input(\"Give a number: \"))\n",
        "\n",
        "while num != 0.0:\n",
        "  lst.append(num)\n",
        "  num = float(input(\"Give a number: \"))\n",
        "lst.sort(reverse = True)\n",
        "print(lst)"
      ],
      "metadata": {
        "colab": {
          "base_uri": "https://localhost:8080/"
        },
        "id": "htG1KZiHCQC_",
        "outputId": "456080d9-2775-45ad-b247-c2678eb65c4c"
      },
      "execution_count": 11,
      "outputs": [
        {
          "output_type": "stream",
          "name": "stdout",
          "text": [
            "Give a number: 2.7\n",
            "Give a number: 8.9\n",
            "Give a number: 8.8\n",
            "Give a number: 3.9\n",
            "Give a number: 0\n",
            "[8.9, 8.8, 3.9, 2.7]\n"
          ]
        }
      ]
    }
  ]
}